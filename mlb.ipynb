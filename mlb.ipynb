{
 "cells": [
  {
   "cell_type": "code",
   "execution_count": null,
   "metadata": {
    "collapsed": false
   },
   "outputs": [],
   "source": [
    "%matplotlib inline\n",
    "import matplotlib as pyplot\n",
    "import numpy as np\n",
    "import pandas as pd\n",
    "import xgboost as xgb\n",
    "\n",
    "from sklearn.model_selection import KFold, StratifiedKFold\n",
    "from sklearn.metrics import accuracy_score, roc_auc_score"
   ]
  },
  {
   "cell_type": "code",
   "execution_count": null,
   "metadata": {
    "collapsed": false
   },
   "outputs": [],
   "source": [
    "gd2_df = pd.read_pickle('data/gd2_df.pkl')\n",
    "covers_df = pd.read_pickle('data/covers_df.pkl')\n",
    "os_df = pd.read_pickle('data/os_df.pkl')"
   ]
  },
  {
   "cell_type": "code",
   "execution_count": null,
   "metadata": {
    "collapsed": true
   },
   "outputs": [],
   "source": [
    "df = pd.merge(gd2_df, covers_df,\n",
    "              left_on=['gid', 'team_code'],\n",
    "              right_on=['gid', 'team'])"
   ]
  },
  {
   "cell_type": "code",
   "execution_count": null,
   "metadata": {
    "collapsed": false
   },
   "outputs": [],
   "source": [
    "df['date'] = pd.to_datetime(df['date'])\n",
    "df['season'] = df['date'].dt.year\n",
    "df['weekday'] = df['date'].dt.weekday\n",
    "\n",
    "df = df.sort_values(['team_code', 'date'])\n",
    "\n",
    "df[['batting_r', 'other_team_runs']] = df[['batting_r', 'other_team_runs']].astype(int)\n",
    "df[['wins', 'starter_w']] = df[['wins', 'starter_w']].astype(int)\n",
    "df['starter_game_score'] = df['starter_game_score'].astype(float)\n",
    "\n",
    "df['run_diff'] = df['batting_r'] - df['other_team_runs']"
   ]
  },
  {
   "cell_type": "code",
   "execution_count": null,
   "metadata": {
    "collapsed": false
   },
   "outputs": [],
   "source": [
    "df['game_as_favorite'] = ((df['us_line'] < 0) ).astype(int)\n",
    "df['game_as_underdog'] = ((df['us_line'] >= 0)).astype(int)\n",
    "\n",
    "df['win_as_favorite'] = ((df['us_line'] < 0) & (df['batting_r'] > df['other_team_runs'])).astype(int)\n",
    "df['win_as_underdog'] = ((df['us_line'] >= 0) & (df['batting_r'] > df['other_team_runs'])).astype(int)"
   ]
  },
  {
   "cell_type": "code",
   "execution_count": null,
   "metadata": {
    "collapsed": false
   },
   "outputs": [],
   "source": [
    "game_cols = ['gid', 'status_ind', 'date', 'weekday', 'clouds', 'hp_ump', 'temp', 'wind_dir', 'wind_speed',\n",
    "             'over_under', 'league', 'away_time_diff', 'division_game', 'game_type']\n",
    "game_df = df[game_cols].drop_duplicates('gid')"
   ]
  },
  {
   "cell_type": "code",
   "execution_count": null,
   "metadata": {
    "collapsed": false
   },
   "outputs": [],
   "source": [
    "for i in ['home', 'away']:\n",
    "    col = '{}_money_line'.format(i)\n",
    "    indexer = (os_df[col] != '') & (os_df[col].notnull())\n",
    "    os_df[col] = os_df[col].loc[indexer].astype(int)\n",
    "\n",
    "col = 'home_spread'\n",
    "indexer = (os_df[col] != '') & (os_df[col].notnull())\n",
    "os_df[col] = os_df[col].loc[indexer].astype(float)\n",
    "\n",
    "os_keep_re = '.'\n",
    "os_df = os_df.filter(regex=os_keep_re)\n",
    "game_df = pd.merge(game_df, os_df, on='gid', how='left')"
   ]
  },
  {
   "cell_type": "code",
   "execution_count": null,
   "metadata": {
    "collapsed": false
   },
   "outputs": [],
   "source": [
    "team_group = ['season', 'team_code']\n",
    "shift_cols = ['batting_avg', 'batting_obp', 'batting_ops', 'pitching_era', 'wins', 'loss']\n",
    "\n",
    "team_df = (df.groupby(team_group)[shift_cols]\n",
    "             .transform(lambda x: x.shift())).astype(float)\n",
    "\n",
    "team_df['team_runs'] = df['batting_r']\n",
    "\n",
    "team_df['team_win_pct'] = team_df['wins'] / (team_df['wins'] + team_df['loss'])\n",
    "\n",
    "team_df['team_last_5_win_pct']  = (df.groupby(team_group)['wins']\n",
    "                                     .transform(lambda x: (x.shift() - x.shift(6)) / 5))\n",
    "\n",
    "team_df['season_complete_pct'] = (team_df['wins'] + team_df['loss']) / 162\n",
    "\n",
    "no_shift_cols = ['us_line', 'decimal_line']\n",
    "team_df[no_shift_cols] = df[no_shift_cols]\n",
    "\n",
    "gb_cols = ['games_back', 'games_back_wildcard']\n",
    "team_df[gb_cols] = (df.groupby(team_group)[gb_cols]\n",
    "                      .transform(lambda x: x.shift().ffill()))\n",
    "\n",
    "team_df['season_win_pct_as_favorite'] = (df.groupby(team_group)['win_as_favorite']\n",
    "                                           .transform(lambda x: x.shift().cumsum()) /\n",
    "                                         df.groupby(team_group)['game_as_favorite']\n",
    "                                           .transform(lambda x: x.shift().cumsum()))\n",
    "\n",
    "team_df['season_win_pct_as_underdog'] = (df.groupby(team_group)['win_as_underdog']\n",
    "                                           .transform(lambda x: x.shift().cumsum()) /\n",
    "                                         df.groupby(team_group)['game_as_underdog']\n",
    "                                           .transform(lambda x: x.shift().cumsum()))"
   ]
  },
  {
   "cell_type": "code",
   "execution_count": null,
   "metadata": {
    "collapsed": false
   },
   "outputs": [],
   "source": [
    "oth_group = ['season', 'team_code', 'other_team_code']\n",
    "\n",
    "oth_df = (df.groupby(oth_group)['batting_r', 'other_team_runs']\n",
    "            .transform(lambda x: x.astype(int).shift()))\n",
    "\n",
    "oth_df = pd.concat([df[oth_group], oth_df], axis=1)\n",
    "\n",
    "oth_df['oth_win'] = (oth_df['batting_r'] > oth_df['other_team_runs']).astype(int)\n",
    "\n",
    "team_df['season_win_pct_against_other_team'] = (oth_df.groupby(oth_group)['oth_win']\n",
    "                                                      .transform(lambda x: x.expanding().mean()))"
   ]
  },
  {
   "cell_type": "code",
   "execution_count": null,
   "metadata": {
    "collapsed": false
   },
   "outputs": [],
   "source": [
    "starter_group = ['season', 'team_code', 'starter_name_display_first_last']\n",
    "starter_cols = ['starter_w', 'starter_l', 'starter_s_bb', 'starter_s_ip',\n",
    "                'starter_s_h', 'starter_s_so', 'starter_era']\n",
    "\n",
    "starter_df = (df.groupby(starter_group)[starter_cols]\n",
    "                .transform(lambda x: x.shift())).astype(float)\n",
    "\n",
    "starter_df['starter_s_hr'] = (df.groupby(starter_group)['starter_hr']\n",
    "                                .transform(lambda x: x.astype(int).shift().cumsum()))\n",
    "\n",
    "starter_df['starter_s_game_score'] = (df.groupby(starter_group)['starter_game_score']\n",
    "                                        .transform(lambda x: x.shift().expanding().mean()))\n",
    "\n",
    "starter_df['starter_hr_ip'] = starter_df['starter_s_hr'] / starter_df['starter_s_ip']\n",
    "\n",
    "starter_df['starter_win_pct'] = (starter_df['starter_w'] / \n",
    "                                 (starter_df['starter_w'] + starter_df['starter_l']))\n",
    "\n",
    "starter_df['starter_last_5_win_pct']  = (df.groupby(starter_group)['starter_w']\n",
    "                                          .transform(lambda x: (x.shift() - x.shift(6)) / 5))\n",
    "\n",
    "starter_df['starter_s_whip'] = ((starter_df['starter_s_bb'] + starter_df['starter_s_h']) /\n",
    "                                starter_df['starter_s_ip'])\n",
    "\n",
    "starter_df['starter_s_soip'] = (starter_df['starter_s_so'])/ starter_df['starter_s_ip']"
   ]
  },
  {
   "cell_type": "code",
   "execution_count": null,
   "metadata": {
    "collapsed": false
   },
   "outputs": [],
   "source": [
    "add_cols = ['team_code', 'starter_name_display_first_last']\n",
    "\n",
    "hix = (df['home_away'] == 'home')\n",
    "home_df = pd.concat([df.loc[hix, add_cols], team_df[hix], starter_df[hix]], axis=1)\n",
    "home_df = home_df.rename(columns=lambda x: 'home_{}'.format(x))\n",
    "home_df = pd.concat([df.loc[hix, 'gid'], home_df], axis=1)\n",
    "\n",
    "aix = (df['home_away'] == 'away')\n",
    "away_df = pd.concat([df.loc[aix, add_cols], team_df[aix], starter_df[aix]], axis=1)\n",
    "away_df = away_df.rename(columns=lambda x: 'away_{}'.format(x))\n",
    "away_df = pd.concat([df.loc[aix, 'gid'], away_df], axis=1)"
   ]
  },
  {
   "cell_type": "code",
   "execution_count": null,
   "metadata": {
    "collapsed": false
   },
   "outputs": [],
   "source": [
    "train_df = pd.merge(game_df, pd.merge(home_df, away_df, on='gid'), on='gid')\n",
    "# train_df = train_df.fillna(0)"
   ]
  },
  {
   "cell_type": "code",
   "execution_count": null,
   "metadata": {
    "collapsed": false
   },
   "outputs": [],
   "source": [
    "ignore = ['gid', 'status_ind', 'date', 'home_team_code', 'home_wins', 'home_loss',\n",
    "    'home_starter_name_display_first_last', 'home_starter_w',\n",
    "    'home_starter_l', 'home_starter_s_bb', 'home_starter_s_ip',\n",
    "    'home_starter_s_h', 'home_starter_s_so', 'home_starter_s_hr',\n",
    "    'away_team_code', 'away_wins', 'away_loss', 'away_starter_name_display_first_last',\n",
    "    'away_starter_w', 'away_starter_l', 'away_starter_s_bb', 'away_starter_s_ip',\n",
    "    'away_starter_s_h', 'away_starter_s_so', 'away_starter_s_hr', 'home_team_runs', 'away_team_runs',\n",
    "    'event_id', 'event_date', 'home_abbreviation', 'away_abbreviation']\n",
    "\n",
    "# ignore = ignore + ['home_us_line', 'home_decimal_line', 'away_us_line', 'away_decimal_line']\n",
    "# ignore = ignore + ['home_season_win_pct_against_other_team', 'away_season_win_pct_against_other_team']\n",
    "\n",
    "cats = ['weekday', 'clouds', 'hp_ump', 'wind_dir', 'league', 'game_type']\n",
    "num = list(set(train_df.columns) - set(cats + ignore))"
   ]
  },
  {
   "cell_type": "code",
   "execution_count": null,
   "metadata": {
    "collapsed": false
   },
   "outputs": [],
   "source": [
    "x = pd.concat([train_df[num].astype(float), pd.get_dummies(train_df[cats])], axis=1)"
   ]
  },
  {
   "cell_type": "code",
   "execution_count": null,
   "metadata": {
    "collapsed": false
   },
   "outputs": [],
   "source": [
    "y = (train_df['home_team_runs'].astype(int) > train_df['away_team_runs'].astype(int)).astype(int)"
   ]
  },
  {
   "cell_type": "code",
   "execution_count": null,
   "metadata": {
    "collapsed": false
   },
   "outputs": [],
   "source": [
    "kf = KFold(n_splits=10, shuffle=False)"
   ]
  },
  {
   "cell_type": "code",
   "execution_count": null,
   "metadata": {
    "collapsed": false
   },
   "outputs": [],
   "source": [
    "dtrain = xgb.DMatrix(x, label=y, feature_names=x.columns)"
   ]
  },
  {
   "cell_type": "code",
   "execution_count": null,
   "metadata": {
    "collapsed": false
   },
   "outputs": [],
   "source": [
    "param = {\n",
    "    'max_depth': 2,\n",
    "    'eta': 0.1,\n",
    "    'objective': 'binary:logistic',\n",
    "    'eval_metric': 'auc',\n",
    "    'reg_alpha': 1,\n",
    "    'reg_lambda': 1,\n",
    "    'min_child_weight': 5\n",
    "}\n",
    "history = xgb.cv(params=param, dtrain=dtrain, num_boost_round=100, folds=kf.split(x),\n",
    "                 metrics=['auc'], verbose_eval=1,\n",
    "                 early_stopping_rounds=5)"
   ]
  },
  {
   "cell_type": "code",
   "execution_count": null,
   "metadata": {
    "collapsed": false
   },
   "outputs": [],
   "source": [
    "best_auc = history['test-auc-mean'].max()\n",
    "best_auc_iter = history['test-auc-mean'].idxmax()\n",
    "print(\"\"\"naive accuracy: {}\n",
    "best test auc: {} on {} boosting iterations\"\"\".format(y.mean(),\n",
    "                                                      best_auc,\n",
    "                                                      best_auc_iter))"
   ]
  },
  {
   "cell_type": "code",
   "execution_count": null,
   "metadata": {
    "collapsed": false
   },
   "outputs": [],
   "source": [
    "cv_preds = []\n",
    "for train_ix, test_ix in kf.split(x):\n",
    "    dtrain_k = xgb.DMatrix(x.iloc[train_ix], label=y.iloc[train_ix], feature_names=x.columns)\n",
    "    dtest_k =xgb.DMatrix(x.iloc[test_ix], feature_names=x.columns)\n",
    "    bst = xgb.train(params=param, dtrain=dtrain_k, num_boost_round=best_auc_iter)\n",
    "    cv_preds.append({'cv_index': test_ix, 'cv_pred': bst.predict(dtest_k)})"
   ]
  },
  {
   "cell_type": "code",
   "execution_count": null,
   "metadata": {
    "collapsed": false,
    "scrolled": true
   },
   "outputs": [],
   "source": [
    "cv_df = pd.concat([pd.DataFrame(f) for f in cv_preds], ignore_index=True)\n",
    "cv_df = cv_df.sort_values('cv_index')\n",
    "cv_df['pred_class'] = cv_df['cv_pred'].apply(\n",
    "    lambda x: 1 if x >= 0.5 else 0)\n",
    "cv_df['home_wins'] = y\n",
    "cv_df['pred_bin'] = pd.cut(cv_df['cv_pred'], bins=np.arange(0.0, 1.0, 0.1))\n",
    "cv_df['implied_probability'] = train_df['home_us_line'].apply(\n",
    "    lambda x: x / (x - 100) if x < 0 else 100/(x+100))\n",
    "cv_df['line_bin'] = pd.cut(cv_df['implied_probability'], bins=np.arange(0.0, 1.0, 0.1))\n",
    "\n",
    "print('cv accuracy: {}'.format(accuracy_score(y_pred=cv_df['pred_class'], y_true=y)))\n",
    "print('cv auc: {}'.format(roc_auc_score(y, cv_df['cv_pred'])))\n",
    "\n",
    "line_acc = accuracy_score((train_df['home_us_line'] < train_df['away_us_line']).astype(int), y)\n",
    "line_auc = roc_auc_score(y, cv_df['implied_probability'])\n",
    "print('line favorite accuracy: {}'.format(line_acc))\n",
    "print('line favorite auc: {}'.format(line_auc))\n",
    "\n",
    "pd.concat([cv_df.groupby('pred_bin')['home_wins'].agg(['count', 'mean']),\n",
    "           cv_df.groupby('line_bin')['home_wins'].agg(['count', 'mean'])], axis=1)"
   ]
  },
  {
   "cell_type": "code",
   "execution_count": null,
   "metadata": {
    "collapsed": false
   },
   "outputs": [],
   "source": [
    "cv_df = pd.concat([cv_df, \n",
    "                   train_df[['home_decimal_line', 'away_decimal_line',\n",
    "                             'home_us_line', 'away_us_line']]\n",
    "                  ], axis=1)"
   ]
  },
  {
   "cell_type": "code",
   "execution_count": null,
   "metadata": {
    "collapsed": false
   },
   "outputs": [],
   "source": [
    "cv_df['home_conf'] = cv_df['cv_pred'] * cv_df['home_decimal_line']\n",
    "cv_df['away_conf'] = (1 - cv_df['cv_pred']) * cv_df['away_decimal_line']\n",
    "cv_df['bet_conf'] =  np.where(cv_df['home_conf'] > cv_df['away_conf'],\n",
    "                              cv_df['home_conf'],\n",
    "                              cv_df['away_conf'])\n",
    "cv_df['bet_wins'] =  np.where(cv_df['home_conf'] > cv_df['away_conf'],\n",
    "                              cv_df['home_wins'],\n",
    "                              1 - cv_df['home_wins'])\n",
    "cv_df['bet_decimal_line'] =  np.where(cv_df['home_conf'] > cv_df['away_conf'],\n",
    "                                      cv_df['home_decimal_line'],\n",
    "                                      cv_df['away_decimal_line'])\n",
    "cv_df['bet_return'] = cv_df['bet_wins'] * cv_df['bet_decimal_line']\n",
    "cv_df = cv_df.sort_values('bet_conf', ascending=False)"
   ]
  },
  {
   "cell_type": "code",
   "execution_count": null,
   "metadata": {
    "collapsed": false
   },
   "outputs": [],
   "source": [
    "pyplot.rcParams['figure.figsize'] = [14, 8]\n",
    "cv_df[['bet_return', 'bet_wins']].expanding(100).mean().plot(use_index=False)"
   ]
  },
  {
   "cell_type": "code",
   "execution_count": null,
   "metadata": {
    "collapsed": true
   },
   "outputs": [],
   "source": [
    "bst = xgb.train(params=param, dtrain=dtrain, num_boost_round=best_auc_iter)"
   ]
  },
  {
   "cell_type": "code",
   "execution_count": null,
   "metadata": {
    "collapsed": false
   },
   "outputs": [],
   "source": [
    "%matplotlib inline\n",
    "pyplot.rcParams['figure.figsize'] = [14, 16]\n",
    "xgb.plot_importance(bst, importance_type='gain')"
   ]
  }
 ],
 "metadata": {
  "kernelspec": {
   "display_name": "Anaconda (mlb)",
   "language": "python",
   "name": "mlb"
  },
  "language_info": {
   "codemirror_mode": {
    "name": "ipython",
    "version": 3
   },
   "file_extension": ".py",
   "mimetype": "text/x-python",
   "name": "python",
   "nbconvert_exporter": "python",
   "pygments_lexer": "ipython3",
   "version": "3.6.2"
  }
 },
 "nbformat": 4,
 "nbformat_minor": 1
}
